{
  "nbformat": 4,
  "nbformat_minor": 0,
  "metadata": {
    "colab": {
      "provenance": [],
      "authorship_tag": "ABX9TyP3pJyxzU8Qwb0ugw7F3hns",
      "include_colab_link": true
    },
    "kernelspec": {
      "name": "python3",
      "display_name": "Python 3"
    },
    "language_info": {
      "name": "python"
    }
  },
  "cells": [
    {
      "cell_type": "markdown",
      "metadata": {
        "id": "view-in-github",
        "colab_type": "text"
      },
      "source": [
        "<a href=\"https://colab.research.google.com/github/estevamgd/my_statistics/blob/main/my_statistics.ipynb\" target=\"_parent\"><img src=\"https://colab.research.google.com/assets/colab-badge.svg\" alt=\"Open In Colab\"/></a>"
      ]
    },
    {
      "cell_type": "code",
      "execution_count": null,
      "metadata": {
        "id": "NyrXrASEbJTa"
      },
      "outputs": [],
      "source": [
        "class mstats:\n",
        "  def __init__(self, x):\n",
        "    self.x = x\n",
        "\n",
        "  def mean(self):\n",
        "    mean = sum(self.x) / len(self.x)\n",
        "    self.mean = mean\n",
        "    return mean\n",
        "\n",
        "  def variance(self):\n",
        "    var = sum((self.x - self.mean) ** 2) / len(self.x)\n",
        "    self.var = var\n",
        "    return var\n",
        "\n",
        "  def std(self):\n",
        "    std = self.var ** 0.5\n",
        "    self.std = std\n",
        "    return std"
      ]
    }
  ]
}