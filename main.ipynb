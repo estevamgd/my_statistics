{
  "nbformat": 4,
  "nbformat_minor": 0,
  "metadata": {
    "colab": {
      "provenance": [],
      "authorship_tag": "ABX9TyMgtfpR8rmxY1CVCeCT4JzR",
      "include_colab_link": true
    },
    "kernelspec": {
      "name": "python3",
      "display_name": "Python 3"
    },
    "language_info": {
      "name": "python"
    }
  },
  "cells": [
    {
      "cell_type": "markdown",
      "metadata": {
        "id": "view-in-github",
        "colab_type": "text"
      },
      "source": [
        "<a href=\"https://colab.research.google.com/github/estevamgd/my_statistics/blob/main/main.ipynb\" target=\"_parent\"><img src=\"https://colab.research.google.com/assets/colab-badge.svg\" alt=\"Open In Colab\"/></a>"
      ]
    },
    {
      "cell_type": "code",
      "execution_count": 69,
      "metadata": {
        "id": "NyrXrASEbJTa"
      },
      "outputs": [],
      "source": [
        "class mstats:\n",
        "  def __init__(self, x):\n",
        "    self.x = x\n",
        "\n",
        "  def mean(self):\n",
        "    return sum(self.x) / len(self.x)\n",
        "\n",
        "  def median(self):\n",
        "    self.x.sort()\n",
        "    if len(self.x) % 2 == 0:\n",
        "      return (self.x[len(self.x) // 2] + self.x[len(self.x) // 2 - 1]) / 2\n",
        "    else:\n",
        "      return self.x[len(self.x) // 2]\n",
        "\n",
        "  def mode(self): # We need to implement this\n",
        "    return\n",
        "\n",
        "  def quartiles(self):\n",
        "        self.x.sort()\n",
        "        n = len(self.x)\n",
        "        self.n = n\n",
        "\n",
        "        def get_position(i):\n",
        "          if self.n % 2 == 0:  # Even\n",
        "            return (i * self.n + 2) / 4\n",
        "          else:                # Odd\n",
        "            return (i * (self.n + 1)) / 4\n",
        "\n",
        "        def get_quartile(p):\n",
        "            if p.is_integer():\n",
        "                return self.x[int(p) - 1]\n",
        "            else:\n",
        "                lower_index = int(p) - 1\n",
        "                upper_index = lower_index + 1\n",
        "                lower = self.x[lower_index]\n",
        "                upper = self.x[upper_index]\n",
        "                return (lower + upper) / 2\n",
        "\n",
        "        # Positions\n",
        "        p1 = get_position(1)\n",
        "        p2 = get_position(2)\n",
        "        p3 = get_position(3)\n",
        "\n",
        "        # Values\n",
        "        q1 = get_quartile(p1)\n",
        "        q2 = get_quartile(p2)\n",
        "        q3 = get_quartile(p3)\n",
        "\n",
        "        return [q1, q2, q3]\n",
        "\n",
        "\n",
        "  def variance(self):\n",
        "    for_variance = []\n",
        "    mean = self.mean()\n",
        "    for i in range(len(self.x)):\n",
        "      for_variance.append((self.x[i] - mean)**2)\n",
        "    variance = sum(for_variance) / len(self.x)\n",
        "    return variance\n",
        "\n",
        "  def std(self):\n",
        "    var = self.variance()\n",
        "    return var ** 0.5\n",
        "\n",
        "  def var_coeff(self):\n",
        "    var = self.variance()\n",
        "    mean = self.mean()\n",
        "    var_coeff = var / mean\n",
        "    self.var_coeff = var_coeff\n",
        "    return var_coeff\n",
        "\n",
        "\n",
        "  def m2(self):\n",
        "    for_m2 = []\n",
        "    mean = self.mean()\n",
        "    for i in range(len(self.x)):\n",
        "      for_m2.append((self.x[i] - mean)**2)\n",
        "    return sum(for_m2) / len(self.x)\n",
        "\n",
        "  def m3(self):\n",
        "    for_m3 = []\n",
        "    mean = self.mean()\n",
        "    for i in range(len(self.x)):\n",
        "      for_m3.append((self.x[i] - mean)**3)\n",
        "    return sum(for_m3) / len(self.x)\n",
        "\n",
        "  def m4(self):\n",
        "    for_m4 = []\n",
        "    mean = self.mean()\n",
        "    for i in range(len(self.x)):\n",
        "      for_m4.append((self.x[i] - mean)**4)\n",
        "    return sum(for_m4) / len(self.x)\n",
        "\n",
        "  def skewness(self): # make another class that tells what the numbers mean\n",
        "    m2 = self.m2()\n",
        "    m3 = self.m3()\n",
        "    return m3 / (m2 *(m2 ** 1.5))\n",
        "\n",
        "  def kurtosis(self):\n",
        "    m2 = self.m2()\n",
        "    m4 = self.m4()\n",
        "    return (m4 / (m2 ** 2))\n"
      ]
    },
    {
      "cell_type": "code",
      "source": [
        "x = [1, 2, 3, 4, 5]\n",
        "test = mstats(x)\n",
        "quartiles = test.quartiles()\n",
        "print(quartiles[0])"
      ],
      "metadata": {
        "colab": {
          "base_uri": "https://localhost:8080/"
        },
        "id": "-8XW9qNAfFyv",
        "outputId": "db55413f-c9dd-474e-f2d4-db33a15d8a40"
      },
      "execution_count": 71,
      "outputs": [
        {
          "output_type": "stream",
          "name": "stdout",
          "text": [
            "1.5\n"
          ]
        }
      ]
    },
    {
      "cell_type": "code",
      "source": [
        "print(test.kurtosis())"
      ],
      "metadata": {
        "colab": {
          "base_uri": "https://localhost:8080/"
        },
        "id": "EzVVf-tCfL49",
        "outputId": "7d9b19d2-b6f0-4509-fa20-17ffd8ad74dc"
      },
      "execution_count": 72,
      "outputs": [
        {
          "output_type": "stream",
          "name": "stdout",
          "text": [
            "1.7\n"
          ]
        }
      ]
    },
    {
      "cell_type": "code",
      "source": [],
      "metadata": {
        "id": "EoQFtSgR5GY0"
      },
      "execution_count": null,
      "outputs": []
    }
  ]
}