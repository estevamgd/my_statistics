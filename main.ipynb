{
  "nbformat": 4,
  "nbformat_minor": 0,
  "metadata": {
    "colab": {
      "provenance": [],
      "authorship_tag": "ABX9TyOPp0Dki55k6tLeERYqFc21",
      "include_colab_link": true
    },
    "kernelspec": {
      "name": "python3",
      "display_name": "Python 3"
    },
    "language_info": {
      "name": "python"
    }
  },
  "cells": [
    {
      "cell_type": "markdown",
      "metadata": {
        "id": "view-in-github",
        "colab_type": "text"
      },
      "source": [
        "<a href=\"https://colab.research.google.com/github/estevamgd/my_statistics/blob/main/main.ipynb\" target=\"_parent\"><img src=\"https://colab.research.google.com/assets/colab-badge.svg\" alt=\"Open In Colab\"/></a>"
      ]
    },
    {
      "cell_type": "code",
      "execution_count": 20,
      "metadata": {
        "id": "NyrXrASEbJTa"
      },
      "outputs": [],
      "source": [
        "class mstats:\n",
        "  def __init__(self, x):\n",
        "    self.x = x\n",
        "\n",
        "  def mean(self):\n",
        "    mean = sum(self.x) / len(self.x)\n",
        "    self.mean = mean\n",
        "    return mean\n",
        "\n",
        "  def variance(self):\n",
        "    for_var = []\n",
        "    for i in range(len(self.x)):\n",
        "      for_var.append((self.x[i] - self.mean)**2)\n",
        "    var = sum(for_var) / len(self.x)\n",
        "    self.var = var\n",
        "    return var\n",
        "\n",
        "  def std(self):\n",
        "    std = self.var ** 0.5\n",
        "    self.std = std\n",
        "    return std"
      ]
    },
    {
      "cell_type": "code",
      "source": [
        "x = [1, 2, 3, 4, 5]\n",
        "test = mstats(x)"
      ],
      "metadata": {
        "id": "-8XW9qNAfFyv"
      },
      "execution_count": 21,
      "outputs": []
    },
    {
      "cell_type": "code",
      "source": [
        "print(test.mean())\n",
        "print(test.variance())\n",
        "print(test.std())"
      ],
      "metadata": {
        "colab": {
          "base_uri": "https://localhost:8080/"
        },
        "id": "EzVVf-tCfL49",
        "outputId": "c051e46f-e87b-4fdc-802f-9d6822577df7"
      },
      "execution_count": 22,
      "outputs": [
        {
          "output_type": "stream",
          "name": "stdout",
          "text": [
            "3.0\n",
            "2.0\n",
            "1.4142135623730951\n"
          ]
        }
      ]
    },
    {
      "cell_type": "code",
      "source": [],
      "metadata": {
        "id": "_iMiBnCZfPdL"
      },
      "execution_count": null,
      "outputs": []
    }
  ]
}