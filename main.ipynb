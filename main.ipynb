{
  "nbformat": 4,
  "nbformat_minor": 0,
  "metadata": {
    "colab": {
      "provenance": [],
      "authorship_tag": "ABX9TyOZc4b4YEEnZVAs+Y3yrAdN",
      "include_colab_link": true
    },
    "kernelspec": {
      "name": "python3",
      "display_name": "Python 3"
    },
    "language_info": {
      "name": "python"
    }
  },
  "cells": [
    {
      "cell_type": "markdown",
      "metadata": {
        "id": "view-in-github",
        "colab_type": "text"
      },
      "source": [
        "<a href=\"https://colab.research.google.com/github/estevamgd/my_statistics/blob/main/main.ipynb\" target=\"_parent\"><img src=\"https://colab.research.google.com/assets/colab-badge.svg\" alt=\"Open In Colab\"/></a>"
      ]
    },
    {
      "cell_type": "code",
      "execution_count": 33,
      "metadata": {
        "id": "NyrXrASEbJTa"
      },
      "outputs": [],
      "source": [
        "class mstats:\n",
        "  def __init__(self, x):\n",
        "    self.x = x\n",
        "\n",
        "  def mean(self):\n",
        "    return sum(self.x) / len(self.x)\n",
        "\n",
        "  def variance(self):\n",
        "    for_variance = []\n",
        "    mean = self.mean()\n",
        "    for i in range(len(self.x)):\n",
        "      for_variance.append((self.x[i] - mean)**2)\n",
        "    variance = sum(for_variance) / len(self.x)\n",
        "    return variance\n",
        "\n",
        "  def std(self):\n",
        "    var = self.variance()\n",
        "    return var ** 0.5\n",
        "\n",
        "  def var_coeff(self):\n",
        "    var = self.variance()\n",
        "    mean = self.mean()\n",
        "    var_coeff = var / mean\n",
        "    self.var_coeff = var_coeff\n",
        "    return var_coeff"
      ]
    },
    {
      "cell_type": "code",
      "source": [
        "x = [1, 2, 3, 4, 5]\n",
        "test = mstats(x)"
      ],
      "metadata": {
        "id": "-8XW9qNAfFyv"
      },
      "execution_count": 34,
      "outputs": []
    },
    {
      "cell_type": "code",
      "source": [
        "print(test.var_coeff())"
      ],
      "metadata": {
        "colab": {
          "base_uri": "https://localhost:8080/"
        },
        "id": "pR4XeXY-jnnF",
        "outputId": "67f302c1-41fd-4c03-ad61-1200b3a8d4fe"
      },
      "execution_count": 35,
      "outputs": [
        {
          "output_type": "stream",
          "name": "stdout",
          "text": [
            "0.6666666666666666\n"
          ]
        }
      ]
    },
    {
      "cell_type": "code",
      "source": [
        "print(test.mean())\n",
        "print(test.variance())\n",
        "print(test.std())"
      ],
      "metadata": {
        "colab": {
          "base_uri": "https://localhost:8080/"
        },
        "id": "EzVVf-tCfL49",
        "outputId": "3e99bcd4-bf52-42f8-afb6-1b821bef6153"
      },
      "execution_count": 36,
      "outputs": [
        {
          "output_type": "stream",
          "name": "stdout",
          "text": [
            "3.0\n",
            "2.0\n",
            "1.4142135623730951\n"
          ]
        }
      ]
    },
    {
      "cell_type": "code",
      "source": [],
      "metadata": {
        "id": "_iMiBnCZfPdL"
      },
      "execution_count": null,
      "outputs": []
    }
  ]
}